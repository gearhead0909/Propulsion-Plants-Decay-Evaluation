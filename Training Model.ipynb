{
 "cells": [
  {
   "cell_type": "markdown",
   "metadata": {},
   "source": [
    "### Importing Libraries"
   ]
  },
  {
   "cell_type": "code",
   "execution_count": 1,
   "metadata": {},
   "outputs": [],
   "source": [
    "import pandas as pd\n",
    "import matplotlib.pyplot as plt\n",
    "import seaborn as sns"
   ]
  },
  {
   "cell_type": "code",
   "execution_count": 2,
   "metadata": {},
   "outputs": [],
   "source": [
    "from sklearn.feature_selection import RFE\n",
    "from sklearn.ensemble import ExtraTreesRegressor"
   ]
  },
  {
   "cell_type": "code",
   "execution_count": 3,
   "metadata": {},
   "outputs": [],
   "source": [
    "from sklearn.model_selection import train_test_split"
   ]
  },
  {
   "cell_type": "code",
   "execution_count": 4,
   "metadata": {},
   "outputs": [],
   "source": [
    "from sklearn.linear_model import LinearRegression\n",
    "from sklearn.linear_model import Ridge\n",
    "from sklearn.ensemble import BaggingRegressor\n",
    "from sklearn.ensemble import RandomForestRegressor\n",
    "from sklearn.ensemble import ExtraTreesRegressor\n",
    "from sklearn.tree import DecisionTreeRegressor\n",
    "from sklearn.neighbors import KNeighborsRegressor\n",
    "from sklearn.metrics import explained_variance_score"
   ]
  },
  {
   "cell_type": "code",
   "execution_count": 5,
   "metadata": {},
   "outputs": [],
   "source": [
    "from sklearn import preprocessing"
   ]
  },
  {
   "cell_type": "code",
   "execution_count": 6,
   "metadata": {},
   "outputs": [],
   "source": [
    "from keras.models import Sequential\n",
    "from keras.layers import Dense\n",
    "from keras.layers import Dropout"
   ]
  },
  {
   "cell_type": "code",
   "execution_count": 7,
   "metadata": {},
   "outputs": [],
   "source": [
    "from sklearn.metrics import mean_squared_error\n",
    "from sklearn.metrics import mean_absolute_error\n",
    "from keras.constraints import maxnorm"
   ]
  },
  {
   "cell_type": "markdown",
   "metadata": {},
   "source": [
    "### Loading Dataset"
   ]
  },
  {
   "cell_type": "code",
   "execution_count": 8,
   "metadata": {},
   "outputs": [],
   "source": [
    "# Loading Dataset\n",
    "Dataset = pd.read_csv(\"propulsion.csv\")"
   ]
  },
  {
   "cell_type": "code",
   "execution_count": 9,
   "metadata": {},
   "outputs": [],
   "source": [
    "# Dropping number column\n",
    "Dataset = Dataset.drop(['Unnamed: 0'], axis=1)"
   ]
  },
  {
   "cell_type": "code",
   "execution_count": 10,
   "metadata": {},
   "outputs": [
    {
     "data": {
      "text/html": [
       "<div>\n",
       "<style scoped>\n",
       "    .dataframe tbody tr th:only-of-type {\n",
       "        vertical-align: middle;\n",
       "    }\n",
       "\n",
       "    .dataframe tbody tr th {\n",
       "        vertical-align: top;\n",
       "    }\n",
       "\n",
       "    .dataframe thead th {\n",
       "        text-align: right;\n",
       "    }\n",
       "</style>\n",
       "<table border=\"1\" class=\"dataframe\">\n",
       "  <thead>\n",
       "    <tr style=\"text-align: right;\">\n",
       "      <th></th>\n",
       "      <th>Lever position (lp) [ ]</th>\n",
       "      <th>Ship speed (v) [knots]</th>\n",
       "      <th>Gas Turbine shaft torque (GTT) [kN m]</th>\n",
       "      <th>Gas Turbine rate of revolutions (GTn) [rpm]</th>\n",
       "      <th>Gas Generator rate of revolutions (GGn) [rpm]</th>\n",
       "      <th>Starboard Propeller Torque (Ts) [kN]</th>\n",
       "      <th>Port Propeller Torque (Tp) [kN]</th>\n",
       "      <th>HP Turbine exit temperature (T48) [C]</th>\n",
       "      <th>GT Compressor inlet air temperature (T1) [C]</th>\n",
       "      <th>GT Compressor outlet air temperature (T2) [C]</th>\n",
       "      <th>HP Turbine exit pressure (P48) [bar]</th>\n",
       "      <th>GT Compressor inlet air pressure (P1) [bar]</th>\n",
       "      <th>GT Compressor outlet air pressure (P2) [bar]</th>\n",
       "      <th>Gas Turbine exhaust gas pressure (Pexh) [bar]</th>\n",
       "      <th>Turbine Injecton Control (TIC) [%]</th>\n",
       "      <th>Fuel flow (mf) [kg/s]</th>\n",
       "      <th>GT Compressor decay state coefficient.</th>\n",
       "      <th>GT Turbine decay state coefficient.</th>\n",
       "    </tr>\n",
       "  </thead>\n",
       "  <tbody>\n",
       "    <tr>\n",
       "      <th>0</th>\n",
       "      <td>9.300</td>\n",
       "      <td>27.0</td>\n",
       "      <td>72762.205</td>\n",
       "      <td>3560.393</td>\n",
       "      <td>9753.812</td>\n",
       "      <td>644.806</td>\n",
       "      <td>644.806</td>\n",
       "      <td>1086.583</td>\n",
       "      <td>288.0</td>\n",
       "      <td>780.304</td>\n",
       "      <td>4.523</td>\n",
       "      <td>0.998</td>\n",
       "      <td>22.879</td>\n",
       "      <td>1.050</td>\n",
       "      <td>90.435</td>\n",
       "      <td>1.790</td>\n",
       "      <td>0.973</td>\n",
       "      <td>0.978</td>\n",
       "    </tr>\n",
       "    <tr>\n",
       "      <th>1</th>\n",
       "      <td>6.175</td>\n",
       "      <td>18.0</td>\n",
       "      <td>29760.552</td>\n",
       "      <td>2306.825</td>\n",
       "      <td>8780.012</td>\n",
       "      <td>246.011</td>\n",
       "      <td>246.011</td>\n",
       "      <td>776.921</td>\n",
       "      <td>288.0</td>\n",
       "      <td>665.511</td>\n",
       "      <td>2.518</td>\n",
       "      <td>0.998</td>\n",
       "      <td>13.438</td>\n",
       "      <td>1.030</td>\n",
       "      <td>34.596</td>\n",
       "      <td>0.685</td>\n",
       "      <td>0.995</td>\n",
       "      <td>0.975</td>\n",
       "    </tr>\n",
       "    <tr>\n",
       "      <th>2</th>\n",
       "      <td>3.144</td>\n",
       "      <td>9.0</td>\n",
       "      <td>8375.774</td>\n",
       "      <td>1386.739</td>\n",
       "      <td>7051.621</td>\n",
       "      <td>60.318</td>\n",
       "      <td>60.318</td>\n",
       "      <td>589.764</td>\n",
       "      <td>288.0</td>\n",
       "      <td>580.587</td>\n",
       "      <td>1.392</td>\n",
       "      <td>0.998</td>\n",
       "      <td>7.566</td>\n",
       "      <td>1.020</td>\n",
       "      <td>12.477</td>\n",
       "      <td>0.247</td>\n",
       "      <td>0.980</td>\n",
       "      <td>0.978</td>\n",
       "    </tr>\n",
       "    <tr>\n",
       "      <th>3</th>\n",
       "      <td>3.144</td>\n",
       "      <td>9.0</td>\n",
       "      <td>8377.589</td>\n",
       "      <td>1386.748</td>\n",
       "      <td>7098.469</td>\n",
       "      <td>60.339</td>\n",
       "      <td>60.339</td>\n",
       "      <td>570.651</td>\n",
       "      <td>288.0</td>\n",
       "      <td>576.565</td>\n",
       "      <td>1.390</td>\n",
       "      <td>0.998</td>\n",
       "      <td>7.409</td>\n",
       "      <td>1.021</td>\n",
       "      <td>11.678</td>\n",
       "      <td>0.231</td>\n",
       "      <td>0.984</td>\n",
       "      <td>1.000</td>\n",
       "    </tr>\n",
       "    <tr>\n",
       "      <th>4</th>\n",
       "      <td>6.175</td>\n",
       "      <td>18.0</td>\n",
       "      <td>29761.091</td>\n",
       "      <td>2306.825</td>\n",
       "      <td>8782.024</td>\n",
       "      <td>246.021</td>\n",
       "      <td>246.021</td>\n",
       "      <td>769.855</td>\n",
       "      <td>288.0</td>\n",
       "      <td>663.682</td>\n",
       "      <td>2.518</td>\n",
       "      <td>0.998</td>\n",
       "      <td>13.374</td>\n",
       "      <td>1.031</td>\n",
       "      <td>34.154</td>\n",
       "      <td>0.676</td>\n",
       "      <td>0.998</td>\n",
       "      <td>0.980</td>\n",
       "    </tr>\n",
       "  </tbody>\n",
       "</table>\n",
       "</div>"
      ],
      "text/plain": [
       "   Lever position (lp) [ ]  Ship speed (v) [knots]  \\\n",
       "0                    9.300                    27.0   \n",
       "1                    6.175                    18.0   \n",
       "2                    3.144                     9.0   \n",
       "3                    3.144                     9.0   \n",
       "4                    6.175                    18.0   \n",
       "\n",
       "   Gas Turbine shaft torque (GTT) [kN m]  \\\n",
       "0                              72762.205   \n",
       "1                              29760.552   \n",
       "2                               8375.774   \n",
       "3                               8377.589   \n",
       "4                              29761.091   \n",
       "\n",
       "   Gas Turbine rate of revolutions (GTn) [rpm]  \\\n",
       "0                                     3560.393   \n",
       "1                                     2306.825   \n",
       "2                                     1386.739   \n",
       "3                                     1386.748   \n",
       "4                                     2306.825   \n",
       "\n",
       "   Gas Generator rate of revolutions (GGn) [rpm]  \\\n",
       "0                                       9753.812   \n",
       "1                                       8780.012   \n",
       "2                                       7051.621   \n",
       "3                                       7098.469   \n",
       "4                                       8782.024   \n",
       "\n",
       "   Starboard Propeller Torque (Ts) [kN]  Port Propeller Torque (Tp) [kN]  \\\n",
       "0                               644.806                          644.806   \n",
       "1                               246.011                          246.011   \n",
       "2                                60.318                           60.318   \n",
       "3                                60.339                           60.339   \n",
       "4                               246.021                          246.021   \n",
       "\n",
       "   HP Turbine exit temperature (T48) [C]  \\\n",
       "0                               1086.583   \n",
       "1                                776.921   \n",
       "2                                589.764   \n",
       "3                                570.651   \n",
       "4                                769.855   \n",
       "\n",
       "   GT Compressor inlet air temperature (T1) [C]  \\\n",
       "0                                         288.0   \n",
       "1                                         288.0   \n",
       "2                                         288.0   \n",
       "3                                         288.0   \n",
       "4                                         288.0   \n",
       "\n",
       "   GT Compressor outlet air temperature (T2) [C]  \\\n",
       "0                                        780.304   \n",
       "1                                        665.511   \n",
       "2                                        580.587   \n",
       "3                                        576.565   \n",
       "4                                        663.682   \n",
       "\n",
       "   HP Turbine exit pressure (P48) [bar]  \\\n",
       "0                                 4.523   \n",
       "1                                 2.518   \n",
       "2                                 1.392   \n",
       "3                                 1.390   \n",
       "4                                 2.518   \n",
       "\n",
       "   GT Compressor inlet air pressure (P1) [bar]  \\\n",
       "0                                        0.998   \n",
       "1                                        0.998   \n",
       "2                                        0.998   \n",
       "3                                        0.998   \n",
       "4                                        0.998   \n",
       "\n",
       "   GT Compressor outlet air pressure (P2) [bar]  \\\n",
       "0                                        22.879   \n",
       "1                                        13.438   \n",
       "2                                         7.566   \n",
       "3                                         7.409   \n",
       "4                                        13.374   \n",
       "\n",
       "   Gas Turbine exhaust gas pressure (Pexh) [bar]  \\\n",
       "0                                          1.050   \n",
       "1                                          1.030   \n",
       "2                                          1.020   \n",
       "3                                          1.021   \n",
       "4                                          1.031   \n",
       "\n",
       "   Turbine Injecton Control (TIC) [%]  Fuel flow (mf) [kg/s]  \\\n",
       "0                              90.435                  1.790   \n",
       "1                              34.596                  0.685   \n",
       "2                              12.477                  0.247   \n",
       "3                              11.678                  0.231   \n",
       "4                              34.154                  0.676   \n",
       "\n",
       "   GT Compressor decay state coefficient.  GT Turbine decay state coefficient.  \n",
       "0                                   0.973                                0.978  \n",
       "1                                   0.995                                0.975  \n",
       "2                                   0.980                                0.978  \n",
       "3                                   0.984                                1.000  \n",
       "4                                   0.998                                0.980  "
      ]
     },
     "execution_count": 10,
     "metadata": {},
     "output_type": "execute_result"
    }
   ],
   "source": [
    "Dataset.head()"
   ]
  },
  {
   "cell_type": "code",
   "execution_count": 11,
   "metadata": {},
   "outputs": [
    {
     "data": {
      "text/plain": [
       "Index(['Lever position (lp) [ ]', 'Ship speed (v) [knots]',\n",
       "       'Gas Turbine shaft torque (GTT) [kN m]',\n",
       "       'Gas Turbine rate of revolutions (GTn) [rpm]',\n",
       "       'Gas Generator rate of revolutions (GGn) [rpm]',\n",
       "       'Starboard Propeller Torque (Ts) [kN]',\n",
       "       'Port Propeller Torque (Tp) [kN]',\n",
       "       'HP Turbine exit temperature (T48) [C]',\n",
       "       'GT Compressor inlet air temperature (T1) [C]',\n",
       "       'GT Compressor outlet air temperature (T2) [C]',\n",
       "       'HP Turbine exit pressure (P48) [bar]',\n",
       "       'GT Compressor inlet air pressure (P1) [bar]',\n",
       "       'GT Compressor outlet air pressure (P2) [bar]',\n",
       "       'Gas Turbine exhaust gas pressure (Pexh) [bar]',\n",
       "       'Turbine Injecton Control (TIC) [%]', 'Fuel flow (mf) [kg/s]',\n",
       "       'GT Compressor decay state coefficient.',\n",
       "       'GT Turbine decay state coefficient.'],\n",
       "      dtype='object')"
      ]
     },
     "execution_count": 11,
     "metadata": {},
     "output_type": "execute_result"
    }
   ],
   "source": [
    "# Column names of the Data\n",
    "Dataset.columns"
   ]
  },
  {
   "cell_type": "markdown",
   "metadata": {},
   "source": [
    "### Dropping rows with no entries"
   ]
  },
  {
   "cell_type": "code",
   "execution_count": 12,
   "metadata": {},
   "outputs": [
    {
     "data": {
      "text/plain": [
       "(10000, 18)"
      ]
     },
     "execution_count": 12,
     "metadata": {},
     "output_type": "execute_result"
    }
   ],
   "source": [
    "# Dataset shape before dropping rows\n",
    "Dataset.shape"
   ]
  },
  {
   "cell_type": "code",
   "execution_count": 13,
   "metadata": {},
   "outputs": [],
   "source": [
    "Dataset = Dataset.dropna()"
   ]
  },
  {
   "cell_type": "code",
   "execution_count": 14,
   "metadata": {},
   "outputs": [
    {
     "data": {
      "text/plain": [
       "(10000, 18)"
      ]
     },
     "execution_count": 14,
     "metadata": {},
     "output_type": "execute_result"
    }
   ],
   "source": [
    "# Dataset shape after dropping rows\n",
    "Dataset.shape"
   ]
  },
  {
   "cell_type": "code",
   "execution_count": 15,
   "metadata": {},
   "outputs": [
    {
     "data": {
      "text/html": [
       "<div>\n",
       "<style scoped>\n",
       "    .dataframe tbody tr th:only-of-type {\n",
       "        vertical-align: middle;\n",
       "    }\n",
       "\n",
       "    .dataframe tbody tr th {\n",
       "        vertical-align: top;\n",
       "    }\n",
       "\n",
       "    .dataframe thead th {\n",
       "        text-align: right;\n",
       "    }\n",
       "</style>\n",
       "<table border=\"1\" class=\"dataframe\">\n",
       "  <thead>\n",
       "    <tr style=\"text-align: right;\">\n",
       "      <th></th>\n",
       "      <th>Lever position (lp) [ ]</th>\n",
       "      <th>Ship speed (v) [knots]</th>\n",
       "      <th>Gas Turbine shaft torque (GTT) [kN m]</th>\n",
       "      <th>Gas Turbine rate of revolutions (GTn) [rpm]</th>\n",
       "      <th>Gas Generator rate of revolutions (GGn) [rpm]</th>\n",
       "      <th>Starboard Propeller Torque (Ts) [kN]</th>\n",
       "      <th>Port Propeller Torque (Tp) [kN]</th>\n",
       "      <th>HP Turbine exit temperature (T48) [C]</th>\n",
       "      <th>GT Compressor inlet air temperature (T1) [C]</th>\n",
       "      <th>GT Compressor outlet air temperature (T2) [C]</th>\n",
       "      <th>HP Turbine exit pressure (P48) [bar]</th>\n",
       "      <th>GT Compressor inlet air pressure (P1) [bar]</th>\n",
       "      <th>GT Compressor outlet air pressure (P2) [bar]</th>\n",
       "      <th>Gas Turbine exhaust gas pressure (Pexh) [bar]</th>\n",
       "      <th>Turbine Injecton Control (TIC) [%]</th>\n",
       "      <th>Fuel flow (mf) [kg/s]</th>\n",
       "      <th>GT Compressor decay state coefficient.</th>\n",
       "      <th>GT Turbine decay state coefficient.</th>\n",
       "    </tr>\n",
       "  </thead>\n",
       "  <tbody>\n",
       "    <tr>\n",
       "      <th>0</th>\n",
       "      <td>9.300</td>\n",
       "      <td>27.0</td>\n",
       "      <td>72762.205</td>\n",
       "      <td>3560.393</td>\n",
       "      <td>9753.812</td>\n",
       "      <td>644.806</td>\n",
       "      <td>644.806</td>\n",
       "      <td>1086.583</td>\n",
       "      <td>288.0</td>\n",
       "      <td>780.304</td>\n",
       "      <td>4.523</td>\n",
       "      <td>0.998</td>\n",
       "      <td>22.879</td>\n",
       "      <td>1.050</td>\n",
       "      <td>90.435</td>\n",
       "      <td>1.790</td>\n",
       "      <td>0.973</td>\n",
       "      <td>0.978</td>\n",
       "    </tr>\n",
       "    <tr>\n",
       "      <th>1</th>\n",
       "      <td>6.175</td>\n",
       "      <td>18.0</td>\n",
       "      <td>29760.552</td>\n",
       "      <td>2306.825</td>\n",
       "      <td>8780.012</td>\n",
       "      <td>246.011</td>\n",
       "      <td>246.011</td>\n",
       "      <td>776.921</td>\n",
       "      <td>288.0</td>\n",
       "      <td>665.511</td>\n",
       "      <td>2.518</td>\n",
       "      <td>0.998</td>\n",
       "      <td>13.438</td>\n",
       "      <td>1.030</td>\n",
       "      <td>34.596</td>\n",
       "      <td>0.685</td>\n",
       "      <td>0.995</td>\n",
       "      <td>0.975</td>\n",
       "    </tr>\n",
       "    <tr>\n",
       "      <th>2</th>\n",
       "      <td>3.144</td>\n",
       "      <td>9.0</td>\n",
       "      <td>8375.774</td>\n",
       "      <td>1386.739</td>\n",
       "      <td>7051.621</td>\n",
       "      <td>60.318</td>\n",
       "      <td>60.318</td>\n",
       "      <td>589.764</td>\n",
       "      <td>288.0</td>\n",
       "      <td>580.587</td>\n",
       "      <td>1.392</td>\n",
       "      <td>0.998</td>\n",
       "      <td>7.566</td>\n",
       "      <td>1.020</td>\n",
       "      <td>12.477</td>\n",
       "      <td>0.247</td>\n",
       "      <td>0.980</td>\n",
       "      <td>0.978</td>\n",
       "    </tr>\n",
       "    <tr>\n",
       "      <th>3</th>\n",
       "      <td>3.144</td>\n",
       "      <td>9.0</td>\n",
       "      <td>8377.589</td>\n",
       "      <td>1386.748</td>\n",
       "      <td>7098.469</td>\n",
       "      <td>60.339</td>\n",
       "      <td>60.339</td>\n",
       "      <td>570.651</td>\n",
       "      <td>288.0</td>\n",
       "      <td>576.565</td>\n",
       "      <td>1.390</td>\n",
       "      <td>0.998</td>\n",
       "      <td>7.409</td>\n",
       "      <td>1.021</td>\n",
       "      <td>11.678</td>\n",
       "      <td>0.231</td>\n",
       "      <td>0.984</td>\n",
       "      <td>1.000</td>\n",
       "    </tr>\n",
       "    <tr>\n",
       "      <th>4</th>\n",
       "      <td>6.175</td>\n",
       "      <td>18.0</td>\n",
       "      <td>29761.091</td>\n",
       "      <td>2306.825</td>\n",
       "      <td>8782.024</td>\n",
       "      <td>246.021</td>\n",
       "      <td>246.021</td>\n",
       "      <td>769.855</td>\n",
       "      <td>288.0</td>\n",
       "      <td>663.682</td>\n",
       "      <td>2.518</td>\n",
       "      <td>0.998</td>\n",
       "      <td>13.374</td>\n",
       "      <td>1.031</td>\n",
       "      <td>34.154</td>\n",
       "      <td>0.676</td>\n",
       "      <td>0.998</td>\n",
       "      <td>0.980</td>\n",
       "    </tr>\n",
       "  </tbody>\n",
       "</table>\n",
       "</div>"
      ],
      "text/plain": [
       "   Lever position (lp) [ ]  Ship speed (v) [knots]  \\\n",
       "0                    9.300                    27.0   \n",
       "1                    6.175                    18.0   \n",
       "2                    3.144                     9.0   \n",
       "3                    3.144                     9.0   \n",
       "4                    6.175                    18.0   \n",
       "\n",
       "   Gas Turbine shaft torque (GTT) [kN m]  \\\n",
       "0                              72762.205   \n",
       "1                              29760.552   \n",
       "2                               8375.774   \n",
       "3                               8377.589   \n",
       "4                              29761.091   \n",
       "\n",
       "   Gas Turbine rate of revolutions (GTn) [rpm]  \\\n",
       "0                                     3560.393   \n",
       "1                                     2306.825   \n",
       "2                                     1386.739   \n",
       "3                                     1386.748   \n",
       "4                                     2306.825   \n",
       "\n",
       "   Gas Generator rate of revolutions (GGn) [rpm]  \\\n",
       "0                                       9753.812   \n",
       "1                                       8780.012   \n",
       "2                                       7051.621   \n",
       "3                                       7098.469   \n",
       "4                                       8782.024   \n",
       "\n",
       "   Starboard Propeller Torque (Ts) [kN]  Port Propeller Torque (Tp) [kN]  \\\n",
       "0                               644.806                          644.806   \n",
       "1                               246.011                          246.011   \n",
       "2                                60.318                           60.318   \n",
       "3                                60.339                           60.339   \n",
       "4                               246.021                          246.021   \n",
       "\n",
       "   HP Turbine exit temperature (T48) [C]  \\\n",
       "0                               1086.583   \n",
       "1                                776.921   \n",
       "2                                589.764   \n",
       "3                                570.651   \n",
       "4                                769.855   \n",
       "\n",
       "   GT Compressor inlet air temperature (T1) [C]  \\\n",
       "0                                         288.0   \n",
       "1                                         288.0   \n",
       "2                                         288.0   \n",
       "3                                         288.0   \n",
       "4                                         288.0   \n",
       "\n",
       "   GT Compressor outlet air temperature (T2) [C]  \\\n",
       "0                                        780.304   \n",
       "1                                        665.511   \n",
       "2                                        580.587   \n",
       "3                                        576.565   \n",
       "4                                        663.682   \n",
       "\n",
       "   HP Turbine exit pressure (P48) [bar]  \\\n",
       "0                                 4.523   \n",
       "1                                 2.518   \n",
       "2                                 1.392   \n",
       "3                                 1.390   \n",
       "4                                 2.518   \n",
       "\n",
       "   GT Compressor inlet air pressure (P1) [bar]  \\\n",
       "0                                        0.998   \n",
       "1                                        0.998   \n",
       "2                                        0.998   \n",
       "3                                        0.998   \n",
       "4                                        0.998   \n",
       "\n",
       "   GT Compressor outlet air pressure (P2) [bar]  \\\n",
       "0                                        22.879   \n",
       "1                                        13.438   \n",
       "2                                         7.566   \n",
       "3                                         7.409   \n",
       "4                                        13.374   \n",
       "\n",
       "   Gas Turbine exhaust gas pressure (Pexh) [bar]  \\\n",
       "0                                          1.050   \n",
       "1                                          1.030   \n",
       "2                                          1.020   \n",
       "3                                          1.021   \n",
       "4                                          1.031   \n",
       "\n",
       "   Turbine Injecton Control (TIC) [%]  Fuel flow (mf) [kg/s]  \\\n",
       "0                              90.435                  1.790   \n",
       "1                              34.596                  0.685   \n",
       "2                              12.477                  0.247   \n",
       "3                              11.678                  0.231   \n",
       "4                              34.154                  0.676   \n",
       "\n",
       "   GT Compressor decay state coefficient.  GT Turbine decay state coefficient.  \n",
       "0                                   0.973                                0.978  \n",
       "1                                   0.995                                0.975  \n",
       "2                                   0.980                                0.978  \n",
       "3                                   0.984                                1.000  \n",
       "4                                   0.998                                0.980  "
      ]
     },
     "execution_count": 15,
     "metadata": {},
     "output_type": "execute_result"
    }
   ],
   "source": [
    "Dataset.head()"
   ]
  },
  {
   "cell_type": "markdown",
   "metadata": {},
   "source": [
    "### Dropping columns with all same entry"
   ]
  },
  {
   "cell_type": "code",
   "execution_count": 16,
   "metadata": {},
   "outputs": [
    {
     "data": {
      "text/plain": [
       "array([0.998])"
      ]
     },
     "execution_count": 16,
     "metadata": {},
     "output_type": "execute_result"
    }
   ],
   "source": [
    "Dataset['GT Compressor inlet air pressure (P1) [bar]'].unique()"
   ]
  },
  {
   "cell_type": "code",
   "execution_count": 17,
   "metadata": {},
   "outputs": [
    {
     "data": {
      "text/plain": [
       "array([288.])"
      ]
     },
     "execution_count": 17,
     "metadata": {},
     "output_type": "execute_result"
    }
   ],
   "source": [
    "Dataset['GT Compressor inlet air temperature (T1) [C]'].unique()"
   ]
  },
  {
   "cell_type": "code",
   "execution_count": 18,
   "metadata": {},
   "outputs": [],
   "source": [
    "Dataset = Dataset.drop(['GT Compressor inlet air pressure (P1) [bar]', 'GT Compressor inlet air temperature (T1) [C]'], axis=1)"
   ]
  },
  {
   "cell_type": "code",
   "execution_count": 19,
   "metadata": {},
   "outputs": [
    {
     "data": {
      "text/plain": [
       "(10000, 16)"
      ]
     },
     "execution_count": 19,
     "metadata": {},
     "output_type": "execute_result"
    }
   ],
   "source": [
    "Dataset.shape"
   ]
  },
  {
   "cell_type": "markdown",
   "metadata": {},
   "source": [
    "### Statistics of the Dataset"
   ]
  },
  {
   "cell_type": "code",
   "execution_count": 20,
   "metadata": {},
   "outputs": [
    {
     "data": {
      "text/html": [
       "<div>\n",
       "<style scoped>\n",
       "    .dataframe tbody tr th:only-of-type {\n",
       "        vertical-align: middle;\n",
       "    }\n",
       "\n",
       "    .dataframe tbody tr th {\n",
       "        vertical-align: top;\n",
       "    }\n",
       "\n",
       "    .dataframe thead th {\n",
       "        text-align: right;\n",
       "    }\n",
       "</style>\n",
       "<table border=\"1\" class=\"dataframe\">\n",
       "  <thead>\n",
       "    <tr style=\"text-align: right;\">\n",
       "      <th></th>\n",
       "      <th>Lever position (lp) [ ]</th>\n",
       "      <th>Ship speed (v) [knots]</th>\n",
       "      <th>Gas Turbine shaft torque (GTT) [kN m]</th>\n",
       "      <th>Gas Turbine rate of revolutions (GTn) [rpm]</th>\n",
       "      <th>Gas Generator rate of revolutions (GGn) [rpm]</th>\n",
       "      <th>Starboard Propeller Torque (Ts) [kN]</th>\n",
       "      <th>Port Propeller Torque (Tp) [kN]</th>\n",
       "      <th>HP Turbine exit temperature (T48) [C]</th>\n",
       "      <th>GT Compressor outlet air temperature (T2) [C]</th>\n",
       "      <th>HP Turbine exit pressure (P48) [bar]</th>\n",
       "      <th>GT Compressor outlet air pressure (P2) [bar]</th>\n",
       "      <th>Gas Turbine exhaust gas pressure (Pexh) [bar]</th>\n",
       "      <th>Turbine Injecton Control (TIC) [%]</th>\n",
       "      <th>Fuel flow (mf) [kg/s]</th>\n",
       "      <th>GT Compressor decay state coefficient.</th>\n",
       "      <th>GT Turbine decay state coefficient.</th>\n",
       "    </tr>\n",
       "  </thead>\n",
       "  <tbody>\n",
       "    <tr>\n",
       "      <th>count</th>\n",
       "      <td>10000.000000</td>\n",
       "      <td>10000.000000</td>\n",
       "      <td>10000.000000</td>\n",
       "      <td>10000.000000</td>\n",
       "      <td>10000.000000</td>\n",
       "      <td>10000.000000</td>\n",
       "      <td>10000.000000</td>\n",
       "      <td>10000.000000</td>\n",
       "      <td>10000.000000</td>\n",
       "      <td>10000.000000</td>\n",
       "      <td>10000.000000</td>\n",
       "      <td>10000.000000</td>\n",
       "      <td>10000.000000</td>\n",
       "      <td>10000.000000</td>\n",
       "      <td>10000.000000</td>\n",
       "      <td>10000.000000</td>\n",
       "    </tr>\n",
       "    <tr>\n",
       "      <th>mean</th>\n",
       "      <td>5.150075</td>\n",
       "      <td>14.951400</td>\n",
       "      <td>27100.647713</td>\n",
       "      <td>2131.151788</td>\n",
       "      <td>8194.182366</td>\n",
       "      <td>225.957785</td>\n",
       "      <td>225.957785</td>\n",
       "      <td>734.476177</td>\n",
       "      <td>645.748980</td>\n",
       "      <td>2.345732</td>\n",
       "      <td>12.262597</td>\n",
       "      <td>1.029402</td>\n",
       "      <td>33.480715</td>\n",
       "      <td>0.659100</td>\n",
       "      <td>0.975021</td>\n",
       "      <td>0.987455</td>\n",
       "    </tr>\n",
       "    <tr>\n",
       "      <th>std</th>\n",
       "      <td>2.624015</td>\n",
       "      <td>7.740467</td>\n",
       "      <td>22062.780307</td>\n",
       "      <td>772.211732</td>\n",
       "      <td>1090.569425</td>\n",
       "      <td>199.737886</td>\n",
       "      <td>199.737886</td>\n",
       "      <td>173.009157</td>\n",
       "      <td>72.483036</td>\n",
       "      <td>1.081038</td>\n",
       "      <td>5.320817</td>\n",
       "      <td>0.010353</td>\n",
       "      <td>25.721725</td>\n",
       "      <td>0.504791</td>\n",
       "      <td>0.014734</td>\n",
       "      <td>0.007510</td>\n",
       "    </tr>\n",
       "    <tr>\n",
       "      <th>min</th>\n",
       "      <td>1.138000</td>\n",
       "      <td>3.000000</td>\n",
       "      <td>253.547000</td>\n",
       "      <td>1307.675000</td>\n",
       "      <td>6589.002000</td>\n",
       "      <td>5.304000</td>\n",
       "      <td>5.304000</td>\n",
       "      <td>444.731000</td>\n",
       "      <td>540.999000</td>\n",
       "      <td>1.093000</td>\n",
       "      <td>5.828000</td>\n",
       "      <td>1.019000</td>\n",
       "      <td>0.000000</td>\n",
       "      <td>0.068000</td>\n",
       "      <td>0.950000</td>\n",
       "      <td>0.975000</td>\n",
       "    </tr>\n",
       "    <tr>\n",
       "      <th>25%</th>\n",
       "      <td>3.144000</td>\n",
       "      <td>9.000000</td>\n",
       "      <td>8375.791500</td>\n",
       "      <td>1386.758000</td>\n",
       "      <td>7056.520500</td>\n",
       "      <td>60.317000</td>\n",
       "      <td>60.317000</td>\n",
       "      <td>589.841000</td>\n",
       "      <td>577.980750</td>\n",
       "      <td>1.389000</td>\n",
       "      <td>7.445000</td>\n",
       "      <td>1.020000</td>\n",
       "      <td>13.534000</td>\n",
       "      <td>0.246000</td>\n",
       "      <td>0.962000</td>\n",
       "      <td>0.981000</td>\n",
       "    </tr>\n",
       "    <tr>\n",
       "      <th>50%</th>\n",
       "      <td>5.140000</td>\n",
       "      <td>15.000000</td>\n",
       "      <td>21630.133500</td>\n",
       "      <td>1924.325000</td>\n",
       "      <td>8480.527000</td>\n",
       "      <td>175.264000</td>\n",
       "      <td>175.264000</td>\n",
       "      <td>705.351000</td>\n",
       "      <td>636.800000</td>\n",
       "      <td>2.082000</td>\n",
       "      <td>11.086000</td>\n",
       "      <td>1.026000</td>\n",
       "      <td>25.249500</td>\n",
       "      <td>0.496000</td>\n",
       "      <td>0.975000</td>\n",
       "      <td>0.987000</td>\n",
       "    </tr>\n",
       "    <tr>\n",
       "      <th>75%</th>\n",
       "      <td>7.148000</td>\n",
       "      <td>21.000000</td>\n",
       "      <td>39000.710250</td>\n",
       "      <td>2678.078000</td>\n",
       "      <td>9132.132500</td>\n",
       "      <td>332.360000</td>\n",
       "      <td>332.360000</td>\n",
       "      <td>833.154750</td>\n",
       "      <td>693.656750</td>\n",
       "      <td>2.981000</td>\n",
       "      <td>15.649000</td>\n",
       "      <td>1.036000</td>\n",
       "      <td>44.500000</td>\n",
       "      <td>0.881000</td>\n",
       "      <td>0.988000</td>\n",
       "      <td>0.994000</td>\n",
       "    </tr>\n",
       "    <tr>\n",
       "      <th>max</th>\n",
       "      <td>9.300000</td>\n",
       "      <td>27.000000</td>\n",
       "      <td>72783.338000</td>\n",
       "      <td>3560.741000</td>\n",
       "      <td>9797.103000</td>\n",
       "      <td>645.249000</td>\n",
       "      <td>645.249000</td>\n",
       "      <td>1115.797000</td>\n",
       "      <td>789.094000</td>\n",
       "      <td>4.560000</td>\n",
       "      <td>23.140000</td>\n",
       "      <td>1.052000</td>\n",
       "      <td>92.556000</td>\n",
       "      <td>1.832000</td>\n",
       "      <td>1.000000</td>\n",
       "      <td>1.000000</td>\n",
       "    </tr>\n",
       "  </tbody>\n",
       "</table>\n",
       "</div>"
      ],
      "text/plain": [
       "       Lever position (lp) [ ]  Ship speed (v) [knots]  \\\n",
       "count             10000.000000            10000.000000   \n",
       "mean                  5.150075               14.951400   \n",
       "std                   2.624015                7.740467   \n",
       "min                   1.138000                3.000000   \n",
       "25%                   3.144000                9.000000   \n",
       "50%                   5.140000               15.000000   \n",
       "75%                   7.148000               21.000000   \n",
       "max                   9.300000               27.000000   \n",
       "\n",
       "       Gas Turbine shaft torque (GTT) [kN m]  \\\n",
       "count                           10000.000000   \n",
       "mean                            27100.647713   \n",
       "std                             22062.780307   \n",
       "min                               253.547000   \n",
       "25%                              8375.791500   \n",
       "50%                             21630.133500   \n",
       "75%                             39000.710250   \n",
       "max                             72783.338000   \n",
       "\n",
       "       Gas Turbine rate of revolutions (GTn) [rpm]  \\\n",
       "count                                 10000.000000   \n",
       "mean                                   2131.151788   \n",
       "std                                     772.211732   \n",
       "min                                    1307.675000   \n",
       "25%                                    1386.758000   \n",
       "50%                                    1924.325000   \n",
       "75%                                    2678.078000   \n",
       "max                                    3560.741000   \n",
       "\n",
       "       Gas Generator rate of revolutions (GGn) [rpm]  \\\n",
       "count                                   10000.000000   \n",
       "mean                                     8194.182366   \n",
       "std                                      1090.569425   \n",
       "min                                      6589.002000   \n",
       "25%                                      7056.520500   \n",
       "50%                                      8480.527000   \n",
       "75%                                      9132.132500   \n",
       "max                                      9797.103000   \n",
       "\n",
       "       Starboard Propeller Torque (Ts) [kN]  Port Propeller Torque (Tp) [kN]  \\\n",
       "count                          10000.000000                     10000.000000   \n",
       "mean                             225.957785                       225.957785   \n",
       "std                              199.737886                       199.737886   \n",
       "min                                5.304000                         5.304000   \n",
       "25%                               60.317000                        60.317000   \n",
       "50%                              175.264000                       175.264000   \n",
       "75%                              332.360000                       332.360000   \n",
       "max                              645.249000                       645.249000   \n",
       "\n",
       "       HP Turbine exit temperature (T48) [C]  \\\n",
       "count                           10000.000000   \n",
       "mean                              734.476177   \n",
       "std                               173.009157   \n",
       "min                               444.731000   \n",
       "25%                               589.841000   \n",
       "50%                               705.351000   \n",
       "75%                               833.154750   \n",
       "max                              1115.797000   \n",
       "\n",
       "       GT Compressor outlet air temperature (T2) [C]  \\\n",
       "count                                   10000.000000   \n",
       "mean                                      645.748980   \n",
       "std                                        72.483036   \n",
       "min                                       540.999000   \n",
       "25%                                       577.980750   \n",
       "50%                                       636.800000   \n",
       "75%                                       693.656750   \n",
       "max                                       789.094000   \n",
       "\n",
       "       HP Turbine exit pressure (P48) [bar]  \\\n",
       "count                          10000.000000   \n",
       "mean                               2.345732   \n",
       "std                                1.081038   \n",
       "min                                1.093000   \n",
       "25%                                1.389000   \n",
       "50%                                2.082000   \n",
       "75%                                2.981000   \n",
       "max                                4.560000   \n",
       "\n",
       "       GT Compressor outlet air pressure (P2) [bar]  \\\n",
       "count                                  10000.000000   \n",
       "mean                                      12.262597   \n",
       "std                                        5.320817   \n",
       "min                                        5.828000   \n",
       "25%                                        7.445000   \n",
       "50%                                       11.086000   \n",
       "75%                                       15.649000   \n",
       "max                                       23.140000   \n",
       "\n",
       "       Gas Turbine exhaust gas pressure (Pexh) [bar]  \\\n",
       "count                                   10000.000000   \n",
       "mean                                        1.029402   \n",
       "std                                         0.010353   \n",
       "min                                         1.019000   \n",
       "25%                                         1.020000   \n",
       "50%                                         1.026000   \n",
       "75%                                         1.036000   \n",
       "max                                         1.052000   \n",
       "\n",
       "       Turbine Injecton Control (TIC) [%]  Fuel flow (mf) [kg/s]  \\\n",
       "count                        10000.000000           10000.000000   \n",
       "mean                            33.480715               0.659100   \n",
       "std                             25.721725               0.504791   \n",
       "min                              0.000000               0.068000   \n",
       "25%                             13.534000               0.246000   \n",
       "50%                             25.249500               0.496000   \n",
       "75%                             44.500000               0.881000   \n",
       "max                             92.556000               1.832000   \n",
       "\n",
       "       GT Compressor decay state coefficient.  \\\n",
       "count                            10000.000000   \n",
       "mean                                 0.975021   \n",
       "std                                  0.014734   \n",
       "min                                  0.950000   \n",
       "25%                                  0.962000   \n",
       "50%                                  0.975000   \n",
       "75%                                  0.988000   \n",
       "max                                  1.000000   \n",
       "\n",
       "       GT Turbine decay state coefficient.  \n",
       "count                         10000.000000  \n",
       "mean                              0.987455  \n",
       "std                               0.007510  \n",
       "min                               0.975000  \n",
       "25%                               0.981000  \n",
       "50%                               0.987000  \n",
       "75%                               0.994000  \n",
       "max                               1.000000  "
      ]
     },
     "execution_count": 20,
     "metadata": {},
     "output_type": "execute_result"
    }
   ],
   "source": [
    "Dataset.describe()"
   ]
  },
  {
   "cell_type": "code",
   "execution_count": 21,
   "metadata": {},
   "outputs": [
    {
     "data": {
      "text/plain": [
       "Lever position (lp) [ ]                          float64\n",
       "Ship speed (v) [knots]                           float64\n",
       "Gas Turbine shaft torque (GTT) [kN m]            float64\n",
       "Gas Turbine rate of revolutions (GTn) [rpm]      float64\n",
       "Gas Generator rate of revolutions (GGn) [rpm]    float64\n",
       "Starboard Propeller Torque (Ts) [kN]             float64\n",
       "Port Propeller Torque (Tp) [kN]                  float64\n",
       "HP Turbine exit temperature (T48) [C]            float64\n",
       "GT Compressor outlet air temperature (T2) [C]    float64\n",
       "HP Turbine exit pressure (P48) [bar]             float64\n",
       "GT Compressor outlet air pressure (P2) [bar]     float64\n",
       "Gas Turbine exhaust gas pressure (Pexh) [bar]    float64\n",
       "Turbine Injecton Control (TIC) [%]               float64\n",
       "Fuel flow (mf) [kg/s]                            float64\n",
       "GT Compressor decay state coefficient.           float64\n",
       "GT Turbine decay state coefficient.              float64\n",
       "dtype: object"
      ]
     },
     "execution_count": 21,
     "metadata": {},
     "output_type": "execute_result"
    }
   ],
   "source": [
    "Dataset.dtypes"
   ]
  },
  {
   "cell_type": "markdown",
   "metadata": {},
   "source": [
    "### Feature Selection (Recursive Feature Elimination)"
   ]
  },
  {
   "cell_type": "code",
   "execution_count": 22,
   "metadata": {},
   "outputs": [],
   "source": [
    "Data = Dataset.values\n",
    "\n",
    "X   = Data[:,:14]        # Features\n",
    "Y_1 = Data[:,14]         # GT Compressor decay state coefficient\n",
    "Y_2 = Data[:,15]         # GT Turbine decay state coefficient"
   ]
  },
  {
   "cell_type": "code",
   "execution_count": 23,
   "metadata": {},
   "outputs": [],
   "source": [
    "columns_name = Dataset.columns"
   ]
  },
  {
   "cell_type": "code",
   "execution_count": 24,
   "metadata": {},
   "outputs": [
    {
     "data": {
      "text/plain": [
       "Index(['Lever position (lp) [ ]', 'Ship speed (v) [knots]',\n",
       "       'Gas Turbine shaft torque (GTT) [kN m]',\n",
       "       'Gas Turbine rate of revolutions (GTn) [rpm]',\n",
       "       'Gas Generator rate of revolutions (GGn) [rpm]',\n",
       "       'Starboard Propeller Torque (Ts) [kN]',\n",
       "       'Port Propeller Torque (Tp) [kN]',\n",
       "       'HP Turbine exit temperature (T48) [C]',\n",
       "       'GT Compressor outlet air temperature (T2) [C]',\n",
       "       'HP Turbine exit pressure (P48) [bar]',\n",
       "       'GT Compressor outlet air pressure (P2) [bar]',\n",
       "       'Gas Turbine exhaust gas pressure (Pexh) [bar]',\n",
       "       'Turbine Injecton Control (TIC) [%]', 'Fuel flow (mf) [kg/s]',\n",
       "       'GT Compressor decay state coefficient.',\n",
       "       'GT Turbine decay state coefficient.'],\n",
       "      dtype='object')"
      ]
     },
     "execution_count": 24,
     "metadata": {},
     "output_type": "execute_result"
    }
   ],
   "source": [
    "columns_name"
   ]
  },
  {
   "cell_type": "markdown",
   "metadata": {},
   "source": [
    "#### For :- GT Compressor decay state coefficient"
   ]
  },
  {
   "cell_type": "code",
   "execution_count": 25,
   "metadata": {},
   "outputs": [
    {
     "name": "stdout",
     "output_type": "stream",
     "text": [
      "Number of Features:  3\n",
      "Selected Features:  [False False False False  True False False False  True False False  True\n",
      " False False]\n",
      "Feature Ranking:  [12 11  2  5  1  7  6  4  1  3  9  1  8 10]\n"
     ]
    }
   ],
   "source": [
    "model = ExtraTreesRegressor()                        # Making the model\n",
    "rfe = RFE(model, n_features_to_select=3)             # Number of features to be selected\n",
    "fit = rfe.fit(X, Y_1)                                # Training the data\n",
    "\n",
    "print(\"Number of Features: \", fit.n_features_)       # Numbers of features\n",
    "print(\"Selected Features: \", fit.support_)           # Selected Features\n",
    "print(\"Feature Ranking: \", fit.ranking_)             # Features ranks"
   ]
  },
  {
   "cell_type": "code",
   "execution_count": 26,
   "metadata": {},
   "outputs": [
    {
     "data": {
      "text/plain": [
       "['Gas Generator rate of revolutions (GGn) [rpm]',\n",
       " 'GT Compressor outlet air temperature (T2) [C]',\n",
       " 'Gas Turbine exhaust gas pressure (Pexh) [bar]']"
      ]
     },
     "execution_count": 26,
     "metadata": {},
     "output_type": "execute_result"
    }
   ],
   "source": [
    "# Selected Features :-\n",
    "Selected_features_GTC = []\n",
    "for i in range(len(fit.ranking_)):\n",
    "    if fit.ranking_[i] == 1:\n",
    "        Selected_features_GTC.append(columns_name[i])\n",
    "Selected_features_GTC"
   ]
  },
  {
   "cell_type": "markdown",
   "metadata": {},
   "source": [
    "#### GT Turbine decay state coefficient"
   ]
  },
  {
   "cell_type": "code",
   "execution_count": 27,
   "metadata": {},
   "outputs": [
    {
     "name": "stdout",
     "output_type": "stream",
     "text": [
      "Number of Features:  3\n",
      "Selected Features:  [False False False False  True False False False False False  True False\n",
      " False  True]\n",
      "Feature Ranking:  [11 12  3  4  1  9 10  5  8  6  1  7  2  1]\n"
     ]
    }
   ],
   "source": [
    "model = ExtraTreesRegressor()                        # Making the model\n",
    "rfe = RFE(model, n_features_to_select=3)             # Number of features to be selected\n",
    "fit = rfe.fit(X, Y_2)                                # Training the data\n",
    "\n",
    "print(\"Number of Features: \", fit.n_features_)       # Numbers of features\n",
    "print(\"Selected Features: \", fit.support_)           # Selected Features\n",
    "print(\"Feature Ranking: \", fit.ranking_)             # Features ranks"
   ]
  },
  {
   "cell_type": "code",
   "execution_count": 28,
   "metadata": {},
   "outputs": [
    {
     "data": {
      "text/plain": [
       "['Gas Generator rate of revolutions (GGn) [rpm]',\n",
       " 'GT Compressor outlet air pressure (P2) [bar]',\n",
       " 'Fuel flow (mf) [kg/s]']"
      ]
     },
     "execution_count": 28,
     "metadata": {},
     "output_type": "execute_result"
    }
   ],
   "source": [
    "# Selected Features :-\n",
    "Selected_features_GTT = []\n",
    "for i in range(len(fit.ranking_)):\n",
    "    if fit.ranking_[i] == 1:\n",
    "        Selected_features_GTT.append(columns_name[i])\n",
    "Selected_features_GTT"
   ]
  },
  {
   "cell_type": "markdown",
   "metadata": {},
   "source": [
    "### Splitting Data in Train/Test     [70:30]"
   ]
  },
  {
   "cell_type": "code",
   "execution_count": 29,
   "metadata": {},
   "outputs": [],
   "source": [
    "X_1 = Dataset[['Gas Generator rate of revolutions (GGn) [rpm]', 'GT Compressor outlet air temperature (T2) [C]', 'Gas Turbine exhaust gas pressure (Pexh) [bar]']]\n",
    "X_2 = Dataset[['Gas Generator rate of revolutions (GGn) [rpm]', 'GT Compressor outlet air pressure (P2) [bar]', 'Fuel flow (mf) [kg/s]']]\n",
    "Y_1 = Dataset['GT Compressor decay state coefficient.']\n",
    "Y_2 = Dataset['GT Turbine decay state coefficient.']"
   ]
  },
  {
   "cell_type": "code",
   "execution_count": 30,
   "metadata": {},
   "outputs": [],
   "source": [
    "X_1_Train, X_1_Test, Y_1_Train, Y_1_Test = train_test_split(X_1, Y_1, test_size=0.3)      # For Case-I\n",
    "X_2_Train, X_2_Test, Y_2_Train, Y_2_Test = train_test_split(X_2, Y_2, test_size=0.3)      # For Case-II"
   ]
  },
  {
   "cell_type": "markdown",
   "metadata": {},
   "source": [
    "### Building Model"
   ]
  },
  {
   "cell_type": "markdown",
   "metadata": {},
   "source": [
    "#### GT Compressor decay state coefficient "
   ]
  },
  {
   "cell_type": "code",
   "execution_count": 31,
   "metadata": {},
   "outputs": [],
   "source": [
    "models = []\n",
    "models.append(('LiR', LinearRegression()))\n",
    "models.append(('Ridge', Ridge()))\n",
    "models.append(('Bag_Re', BaggingRegressor()))\n",
    "models.append(('RandomForest', RandomForestRegressor()))\n",
    "models.append(('ExtraTreesRegressor', ExtraTreesRegressor()))\n",
    "models.append(('KNN', KNeighborsRegressor()))\n",
    "models.append(('CART', DecisionTreeRegressor()))"
   ]
  },
  {
   "cell_type": "markdown",
   "metadata": {},
   "source": [
    "#### For GT Turbine decay state coefficient"
   ]
  },
  {
   "cell_type": "code",
   "execution_count": 32,
   "metadata": {},
   "outputs": [],
   "source": [
    "Model = Sequential()\n",
    "Model.add(Dense(6, input_dim=3, activation='relu'))\n",
    "Model.add(Dropout(0.2))\n",
    "Model.add(Dense(4, activation='relu', kernel_constraint=maxnorm(3)))\n",
    "Model.add(Dropout(0.2))\n",
    "Model.add(Dense(2, activation='relu'))\n",
    "Model.add(Dense(1, activation='sigmoid'))\n",
    "\n",
    "Model.compile(loss='mean_absolute_error', optimizer='adam')"
   ]
  },
  {
   "cell_type": "markdown",
   "metadata": {},
   "source": [
    "### Training+Evaluating Model"
   ]
  },
  {
   "cell_type": "markdown",
   "metadata": {},
   "source": [
    "#### For GT Compressor decay state coefficient"
   ]
  },
  {
   "cell_type": "code",
   "execution_count": 33,
   "metadata": {},
   "outputs": [
    {
     "name": "stdout",
     "output_type": "stream",
     "text": [
      "LiR: 0.399705 (0.009197)\n",
      "Ridge: 0.023563 (0.012718)\n",
      "Bag_Re: 0.940857 (0.001274)\n",
      "RandomForest: 0.942208 (0.001194)\n",
      "ExtraTreesRegressor: 0.944526 (0.001025)\n",
      "KNN: 0.908861 (0.001977)\n",
      "CART: 0.901690 (0.001750)\n"
     ]
    }
   ],
   "source": [
    "# Evaluations\n",
    "results = []\n",
    "names = []\n",
    "scoring = []\n",
    "\n",
    "for name, model in models:\n",
    "    # Fit the model\n",
    "    model.fit(X_1_Train, Y_1_Train)\n",
    "    \n",
    "    predictions = model.predict(X_1_Test)\n",
    "    \n",
    "    # Evaluate the model\n",
    "    score = explained_variance_score(Y_1_Test, predictions)\n",
    "    mae = mean_absolute_error(predictions, Y_1_Test)\n",
    "    results.append(mae)\n",
    "    names.append(name)\n",
    "    \n",
    "    msg = \"%s: %f (%f)\" % (name, score, mae)\n",
    "    print(msg)"
   ]
  },
  {
   "cell_type": "markdown",
   "metadata": {},
   "source": [
    "#### For GT Turbine decay state coefficient"
   ]
  },
  {
   "cell_type": "code",
   "execution_count": 34,
   "metadata": {},
   "outputs": [],
   "source": [
    "X_1_Train = preprocessing.normalize(X_1_Train)"
   ]
  },
  {
   "cell_type": "code",
   "execution_count": 35,
   "metadata": {},
   "outputs": [
    {
     "name": "stdout",
     "output_type": "stream",
     "text": [
      "Epoch 1/15\n",
      "630/630 [==============================] - 1s 845us/step - loss: 0.1076 - val_loss: 0.0203\n",
      "Epoch 2/15\n",
      "630/630 [==============================] - 0s 728us/step - loss: 0.0297 - val_loss: 0.0191\n",
      "Epoch 3/15\n",
      "630/630 [==============================] - 0s 718us/step - loss: 0.0227 - val_loss: 0.0128\n",
      "Epoch 4/15\n",
      "630/630 [==============================] - 0s 716us/step - loss: 0.0163 - val_loss: 0.0129\n",
      "Epoch 5/15\n",
      "630/630 [==============================] - 0s 749us/step - loss: 0.0143 - val_loss: 0.0128\n",
      "Epoch 6/15\n",
      "630/630 [==============================] - 0s 722us/step - loss: 0.0131 - val_loss: 0.0128\n",
      "Epoch 7/15\n",
      "630/630 [==============================] - 0s 723us/step - loss: 0.0128 - val_loss: 0.0129\n",
      "Epoch 8/15\n",
      "630/630 [==============================] - 0s 724us/step - loss: 0.0128 - val_loss: 0.0128\n",
      "Epoch 9/15\n",
      "630/630 [==============================] - 0s 731us/step - loss: 0.0127 - val_loss: 0.0128\n",
      "Epoch 10/15\n",
      "630/630 [==============================] - 0s 728us/step - loss: 0.0127 - val_loss: 0.0128\n",
      "Epoch 11/15\n",
      "630/630 [==============================] - 0s 744us/step - loss: 0.0128 - val_loss: 0.0128\n",
      "Epoch 12/15\n",
      "630/630 [==============================] - 0s 731us/step - loss: 0.0127 - val_loss: 0.0130\n",
      "Epoch 13/15\n",
      "630/630 [==============================] - 0s 737us/step - loss: 0.0127 - val_loss: 0.0129\n",
      "Epoch 14/15\n",
      "630/630 [==============================] - 0s 733us/step - loss: 0.0127 - val_loss: 0.0130\n",
      "Epoch 15/15\n",
      "630/630 [==============================] - 0s 746us/step - loss: 0.0127 - val_loss: 0.0129\n"
     ]
    }
   ],
   "source": [
    "history = Model.fit(X_1_Train, Y_1_Train, validation_split=0.1, epochs=15, batch_size=10)"
   ]
  },
  {
   "cell_type": "code",
   "execution_count": 36,
   "metadata": {},
   "outputs": [
    {
     "data": {
      "image/png": "[encoded data removed]",
      "text/plain": [
       "<Figure size 432x288 with 1 Axes>"
      ]
     },
     "metadata": {
      "needs_background": "light"
     },
     "output_type": "display_data"
    }
   ],
   "source": [
    "#Loss Graph\n",
    "plt.plot(history.history['loss'])\n",
    "plt.plot(history.history['val_loss'])\n",
    "plt.title('model loss')\n",
    "plt.ylabel('loss')\n",
    "plt.xlabel('epoch')\n",
    "plt.legend(['train', 'test'], loc='upper right')\n",
    "plt.savefig('Loss')\n",
    "plt.show()"
   ]
  },
  {
   "cell_type": "code",
   "execution_count": 37,
   "metadata": {},
   "outputs": [],
   "source": [
    "Model.save(\"Model.h5\")"
   ]
  }
 ],
 "metadata": {
  "kernelspec": {
   "display_name": "Python 3",
   "language": "python",
   "name": "python3"
  },
  "language_info": {
   "codemirror_mode": {
    "name": "ipython",
    "version": 3
   },
   "file_extension": ".py",
   "mimetype": "text/x-python",
   "name": "python",
   "nbconvert_exporter": "python",
   "pygments_lexer": "ipython3",
   "version": "3.7.9"
  }
 },
 "nbformat": 4,
 "nbformat_minor": 4
}
